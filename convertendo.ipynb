{
 "cells": [
  {
   "cell_type": "code",
   "execution_count": null,
   "id": "f94c9d62",
   "metadata": {},
   "outputs": [],
   "source": [
    "import json, pandas as pd\n",
    "from pathlib import Path\n",
    "\n",
    "json_path = Path(\"catalogo_modelos_motos.json\")\n",
    "out_path = Path(\"catalogo_modelos_motos.xlsx\")\n",
    "\n",
    "with open(json_path, \"r\", encoding=\"utf-8\") as f:\n",
    "    data = json.load(f)\n",
    "\n",
    "dados = data.get(\"dados\", {})\n",
    "rows = [{\"Marca\": marca, \"Modelo\": modelo}\n",
    "        for marca, modelos in dados.items()\n",
    "        for modelo in modelos]\n",
    "\n",
    "df = pd.DataFrame(rows).sort_values([\"Marca\",\"Modelo\"]).reset_index(drop=True)\n",
    "resumo = (df.groupby(\"Marca\").size()\n",
    "            .reset_index(name=\"Qtd Modelos\")\n",
    "            .sort_values([\"Qtd Modelos\",\"Marca\"], ascending=[False, True])\n",
    "            .reset_index(drop=True))\n",
    "\n",
    "with pd.ExcelWriter(out_path, engine=\"xlsxwriter\") as w:\n",
    "    df.to_excel(w, sheet_name=\"Modelos\", index=False)\n",
    "    resumo.to_excel(w, sheet_name=\"Resumo\", index=False)\n",
    "\n",
    "print(f\"Arquivo salvo em: {out_path.resolve()}\")\n"
   ]
  }
 ],
 "metadata": {
  "kernelspec": {
   "display_name": "base",
   "language": "python",
   "name": "python3"
  },
  "language_info": {
   "codemirror_mode": {
    "name": "ipython",
    "version": 3
   },
   "file_extension": ".py",
   "mimetype": "text/x-python",
   "name": "python",
   "nbconvert_exporter": "python",
   "pygments_lexer": "ipython3",
   "version": "3.12.7"
  }
 },
 "nbformat": 4,
 "nbformat_minor": 5
}
