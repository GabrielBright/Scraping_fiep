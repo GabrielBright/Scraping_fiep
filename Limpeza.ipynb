{
 "cells": [
  {
   "cell_type": "markdown",
   "id": "dc593c6b",
   "metadata": {},
   "source": [
    "Filtros"
   ]
  },
  {
   "cell_type": "markdown",
   "id": "f13b8a49",
   "metadata": {},
   "source": [
    "Carros"
   ]
  },
  {
   "cell_type": "code",
   "execution_count": null,
   "id": "b026d8b6",
   "metadata": {},
   "outputs": [],
   "source": [
    "import pandas as pd\n",
    "\n",
    "fipe_base = pd.read_excel(r\"C:\\Users\\gabriel.vinicius\\Documents\\Bases Fipe\\Fipe - carros_testes.xlsx\")\n",
    "\n",
    "# Separar 'Ano' e 'Combustivel'\n",
    "fipe_base[['Ano', 'Combustivel']] = fipe_base['AnoSelecionado'].str.split(' ', n=1, expand=True)\n",
    "\n",
    "# Limpar resíduos como \"KM\", \"a\", \"é\" e espaços em branco\n",
    "fipe_base['Combustivel'] = (\n",
    "    fipe_base['Combustivel']\n",
    "    .str.replace(r'\\b(KM|a|é)\\b', '', regex=True)  \n",
    "    .str.strip()                                   \n",
    ")\n",
    "\n",
    "# Remover coluna antiga\n",
    "fipe_base = fipe_base.drop(columns=['AnoSelecionado'])\n",
    "\n",
    "# Renomear colunas\n",
    "fipe_base.rename(columns={\n",
    "    'MarcaSelecionada': 'Marca',\n",
    "    'ModeloSelecionado': 'Modelo',\n",
    "    'CodigoFipe': 'Codigo Fipe',\n",
    "    'PrecoMedio': 'Preco Medio'\n",
    "}, inplace=True)\n",
    "\n",
    "fipe_base[\"TIPO VEICULO\"] = \"Carro\"\n",
    "\n",
    "# Reordenar colunas\n",
    "ordem_colunas = ['Marca', 'Modelo', 'Codigo Fipe', 'Preco Medio', 'Combustivel', 'Ano',  'Mes Referencia', 'TIPO VEICULO']\n",
    "fipe_base = fipe_base[ordem_colunas]\n",
    "\n",
    "fipe_base.drop_duplicates()\n",
    "\n",
    "# Exportar para Excel\n",
    "fipe_base.to_excel(r\"C:\\Users\\gabriel.vinicius\\Documents\\Bases Fipe\\Base_fipe_teste.xlsx\", index=False)"
   ]
  },
  {
   "cell_type": "code",
   "execution_count": null,
   "id": "c14af870",
   "metadata": {},
   "outputs": [],
   "source": [
    "import pandas as pd\n",
    "\n",
    "carros_1 = r\"C:\\Users\\gabriel.vinicius\\Documents\\Vscode\\Fipe\\Fipe_temp_teste0.xlsx\"\n",
    "carros_2 = r\"C:\\Users\\gabriel.vinicius\\Documents\\Vscode\\Fipe\\Fipe_temp_teste20.xlsx\"\n",
    "\n",
    "fipe_cr1 = pd.read_excel(carros_1)\n",
    "fipe_cr2 = pd.read_excel(carros_2)\n",
    "\n",
    "base_Fipe = pd.concat([fipe_cr1, fipe_cr2], ignore_index=False)\n",
    "\n",
    "base_Fipe.drop_duplicates()\n",
    "\n",
    "base_Fipe.to_excel(r\"C:\\Users\\gabriel.vinicius\\Documents\\Bases Fipe\\Fipe - carros_testes.xlsx\")"
   ]
  },
  {
   "cell_type": "markdown",
   "id": "90a4dd6b",
   "metadata": {},
   "source": [
    "Caminhões"
   ]
  },
  {
   "cell_type": "code",
   "execution_count": null,
   "id": "22373a2d",
   "metadata": {},
   "outputs": [],
   "source": [
    "import pandas as pd\n",
    "\n",
    "# Carregar a base\n",
    "fipe_base = pd.read_excel(\"Fipe_temp_teste_caminhao0.xlsx\")\n",
    "\n",
    "fipe_base['Combustivel'] = (\n",
    "    fipe_base['ModeloSelecionado']\n",
    "    .str.extract(r'\\((diesel|etanol|gasolina|flex|elétrico|hidrogênio|gnv|híbrido|biodiesel)[^)]*\\)', expand=False)\n",
    "    .str.capitalize()  # Opcional: deixar a primeira letra maiúscula\n",
    ")\n",
    "\n",
    "# Extrair o ano diretamente da coluna AnoSelecionado\n",
    "fipe_base['Ano'] = fipe_base['AnoSelecionado'].astype(str)\n",
    "\n",
    "# Remover colunas desnecessárias\n",
    "fipe_base = fipe_base.drop(columns=['AnoSelecionado'])\n",
    "\n",
    "# Renomear colunas\n",
    "fipe_base.rename(columns={\n",
    "    'MarcaSelecionada': 'Marca',\n",
    "    'ModeloSelecionado': 'Modelo',\n",
    "    'CodigoFipe': 'Codigo Fipe',\n",
    "    'PrecoMedio': 'Preco Medio'\n",
    "}, inplace=True)\n",
    "\n",
    "# Adicionar coluna fixa de tipo de veículo\n",
    "fipe_base[\"TIPO VEICULO\"] = \"Caminhao\"\n",
    "\n",
    "# Reorganizar colunas\n",
    "ordem_colunas = ['Marca', 'Modelo', 'Codigo Fipe', 'Preco Medio', 'Combustivel', 'Ano', 'Mes Referencia', 'TIPO VEICULO']\n",
    "fipe_base = fipe_base[ordem_colunas]\n",
    "\n",
    "# Remover duplicatas\n",
    "fipe_base = fipe_base.drop_duplicates()\n",
    "\n",
    "# Exportar para Excel\n",
    "fipe_base.to_excel(r\"C:\\Users\\gabriel.vinicius\\Documents\\Bases Fipe\\Base_fipe_teste_caminhao.xlsx\", index=False)\n"
   ]
  },
  {
   "cell_type": "markdown",
   "id": "2596c166",
   "metadata": {},
   "source": [
    "Moto"
   ]
  },
  {
   "cell_type": "code",
   "execution_count": null,
   "id": "0ee8dd5d",
   "metadata": {},
   "outputs": [],
   "source": [
    "import pandas as pd \n",
    "\n",
    "fipe_base = pd.read_excel(\"Fipe_temp_teste_motos0.xlsx\")\n",
    "\n",
    "# Extrair o ano diretamente da coluna AnoSelecionado\n",
    "fipe_base['Ano'] = fipe_base['AnoSelecionado'].astype(str)\n",
    "\n",
    "# Remover colunas desnecessárias\n",
    "fipe_base = fipe_base.drop(columns=['AnoSelecionado'])\n",
    "\n",
    "# Renomear colunas\n",
    "fipe_base.rename(columns={\n",
    "    'MarcaSelecionada': 'Marca',\n",
    "    'ModeloSelecionado': 'Modelo',\n",
    "    'CodigoFipe': 'Codigo Fipe',\n",
    "    'PrecoMedio': 'Preco Medio'\n",
    "}, inplace=True)\n",
    "\n",
    "fipe_base[\"Combustivel\"] = 'Gasolina'\n",
    "\n",
    "# Adicionar coluna fixa de tipo de veículo\n",
    "fipe_base[\"TIPO VEICULO\"] = \"Moto\"\n",
    "\n",
    "# Reorganizar colunas\n",
    "ordem_colunas = ['Marca', 'Modelo', 'Codigo Fipe', 'Preco Medio', 'Combustivel', 'Ano', 'Mes Referencia', 'TIPO VEICULO']\n",
    "fipe_base = fipe_base[ordem_colunas]\n",
    "\n",
    "# Remover duplicatas\n",
    "fipe_base = fipe_base.drop_duplicates()\n",
    "\n",
    "# Exportar para Excel\n",
    "fipe_base.to_excel(r\"C:\\Users\\gabriel.vinicius\\Documents\\Bases Fipe\\Base_fipe_teste_moto.xlsx\", index=False)"
   ]
  },
  {
   "cell_type": "markdown",
   "id": "90b4003c",
   "metadata": {},
   "source": [
    "Juntando as bases"
   ]
  },
  {
   "cell_type": "code",
   "execution_count": null,
   "id": "7147a4ef",
   "metadata": {},
   "outputs": [],
   "source": [
    "import pandas as pd\n",
    "\n",
    "carros = r\"C:\\Users\\gabriel.vinicius\\Documents\\Bases Fipe\\Base_fipe_teste.xlsx\"\n",
    "motos = r\"C:\\Users\\gabriel.vinicius\\Documents\\Bases Fipe\\Base_fipe_teste_moto.xlsx\"\n",
    "caminhoes = r\"C:\\Users\\gabriel.vinicius\\Documents\\Bases Fipe\\Base_fipe_teste_caminhao.xlsx\"\n",
    "\n",
    "fipe_cr = pd.read_excel(carros)\n",
    "fipe_mt = pd.read_excel(motos)\n",
    "fipe_cm = pd.read_excel(caminhoes)\n",
    "\n",
    "base_Fipe = pd.concat([fipe_cr, fipe_mt, fipe_cm], ignore_index=False)\n",
    "\n",
    "base_Fipe['Preco Medio'] = (\n",
    "    base_Fipe['Preco Medio']\n",
    "    .astype(str)\n",
    "    .str.replace('R\\$\\s?', '', regex=True)\n",
    "    .str.replace('.', '', regex=False)     \n",
    "    .str.replace(',', '.', regex=False)    \n",
    "    .astype(float)\n",
    ")\n",
    "\n",
    "base_Fipe.drop_duplicates()\n",
    "\n",
    "base_Fipe.to_excel(r\"C:\\Users\\gabriel.vinicius\\Documents\\Bases Fipe\\Fipe - Julho - 2025.xlsx\")"
   ]
  }
 ],
 "metadata": {
  "kernelspec": {
   "display_name": "base",
   "language": "python",
   "name": "python3"
  },
  "language_info": {
   "codemirror_mode": {
    "name": "ipython",
    "version": 3
   },
   "file_extension": ".py",
   "mimetype": "text/x-python",
   "name": "python",
   "nbconvert_exporter": "python",
   "pygments_lexer": "ipython3",
   "version": "3.12.7"
  }
 },
 "nbformat": 4,
 "nbformat_minor": 5
}
